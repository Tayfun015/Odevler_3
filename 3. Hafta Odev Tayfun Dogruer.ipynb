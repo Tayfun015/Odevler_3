{
 "cells": [
  {
   "cell_type": "code",
   "execution_count": 8,
   "id": "a739adf0",
   "metadata": {},
   "outputs": [
    {
     "name": "stdout",
     "output_type": "stream",
     "text": [
      "Geçerli T.C. Kimlik Numarası:  92000370078\n"
     ]
    }
   ],
   "source": [
    "# Just Testing skills\n",
    "\n",
    "import random ; generate_tc = (lambda: (lambda tc: tc + str(((sum(map(int, tc[::2])) * 7) - (sum(map(int, tc[1::2])) * 9)) % 10) + str((sum(map(int, tc)) * 10 + ((sum(map(int, tc[::2])) * 8) % 10)) % 10))(str(random.randint(100000000, 999999999))))\n",
    "print(\"Geçerli T.C. Kimlik Numarası: \",generate_tc())"
   ]
  },
  {
   "cell_type": "code",
   "execution_count": 9,
   "id": "375a5ec9",
   "metadata": {},
   "outputs": [
    {
     "name": "stdout",
     "output_type": "stream",
     "text": [
      "Geçerli T.C. Kimlik Numarası:  85501507122\n"
     ]
    }
   ],
   "source": [
    "# Homework Part\n",
    "\n",
    "import random\n",
    "\n",
    "def generator_tc_no():\n",
    "    tc_no = str(random.randint(100000000, 999999999))\n",
    "    \n",
    "    first_toplam = sum(int(tc_no[no]) for no in range(0, 9, 2))\n",
    "    \n",
    "    second_toplam = sum(int(tc_no[no]) for no in range(1, 9, 2))\n",
    "    \n",
    "    check_basamak = ((first_toplam * 7) - (second_toplam * 9)) % 10\n",
    "    \n",
    "    last_digit = (sum(map(int, tc_no)) * 10 + check_basamak) % 10\n",
    "    \n",
    "    return tc_no + str(check_basamak) + str(last_digit)\n",
    "\n",
    "print(\"Geçerli T.C. Kimlik Numarası: \",generator_tc_no())"
   ]
  },
  {
   "cell_type": "code",
   "execution_count": 10,
   "id": "91091afb",
   "metadata": {},
   "outputs": [
    {
     "name": "stdout",
     "output_type": "stream",
     "text": [
      "Geçerli T.C. Kimlik Numarası: 92243142696\n"
     ]
    }
   ],
   "source": [
    "#Daha okunaklı\n",
    "\n",
    "import random\n",
    "\n",
    "def tc_kimlik_no_uret():\n",
    "    tc_kimlik = [random.randint(1, 9)] # İlk rakam 0 olamazmış\n",
    "    \n",
    "    for _ in range(8):\n",
    "        tc_kimlik.append(random.randint(0, 9))\n",
    "\n",
    "    # 10. rakamı hesapla\n",
    "    tc_kimlik.append(((sum(tc_kimlik[0:9:2]) * 7) - sum(tc_kimlik[1:8:2])) % 10)\n",
    "\n",
    "    # 11. rakamı hesapla\n",
    "    tc_kimlik.append((sum(tc_kimlik[0:10]) * 8) % 10)\n",
    "\n",
    "    return \"\".join(str(rakam) for rakam in tc_kimlik)\n",
    "\n",
    "print(\"Geçerli T.C. Kimlik Numarası:\", tc_kimlik_no_uret())"
   ]
  },
  {
   "cell_type": "code",
   "execution_count": null,
   "id": "90ded790",
   "metadata": {},
   "outputs": [],
   "source": []
  }
 ],
 "metadata": {
  "kernelspec": {
   "display_name": "Python 3 (ipykernel)",
   "language": "python",
   "name": "python3"
  },
  "language_info": {
   "codemirror_mode": {
    "name": "ipython",
    "version": 3
   },
   "file_extension": ".py",
   "mimetype": "text/x-python",
   "name": "python",
   "nbconvert_exporter": "python",
   "pygments_lexer": "ipython3",
   "version": "3.9.13"
  }
 },
 "nbformat": 4,
 "nbformat_minor": 5
}
